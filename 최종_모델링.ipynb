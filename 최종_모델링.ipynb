{
  "nbformat": 4,
  "nbformat_minor": 0,
  "metadata": {
    "colab": {
      "provenance": [],
      "include_colab_link": true
    },
    "kernelspec": {
      "name": "python3",
      "display_name": "Python 3"
    },
    "language_info": {
      "name": "python"
    }
  },
  "cells": [
    {
      "cell_type": "markdown",
      "metadata": {
        "id": "view-in-github",
        "colab_type": "text"
      },
      "source": [
        "<a href=\"https://colab.research.google.com/github/guscldns/dacon-/blob/main/%EC%B5%9C%EC%A2%85_%EB%AA%A8%EB%8D%B8%EB%A7%81.ipynb\" target=\"_parent\"><img src=\"https://colab.research.google.com/assets/colab-badge.svg\" alt=\"Open In Colab\"/></a>"
      ]
    },
    {
      "cell_type": "markdown",
      "source": [
        "# 팀소개: 네모시\n",
        "\n",
        "<<이런 저런 내용들>>\n",
        "\n",
        "이름 끝자가 모두 모음으로 시작! (연 원 우 운)\n",
        "\n",
        "네모시 = 네 명의 이름 마지막 글자가 모음으로 시작\n",
        "\n",
        "# [요약] 주요 포인트\n",
        "\n",
        "<<이런 저런 내용들>>"
      ],
      "metadata": {
        "id": "TIa_9b906g9q"
      }
    },
    {
      "cell_type": "markdown",
      "source": [
        "# 준비단계\n",
        "\n",
        "## Google Drive mount"
      ],
      "metadata": {
        "id": "Nnb6S5bg6lk0"
      }
    },
    {
      "cell_type": "code",
      "source": [
        "from google.colab import drive\n",
        "drive.mount('/content/drive')"
      ],
      "metadata": {
        "colab": {
          "base_uri": "https://localhost:8080/"
        },
        "id": "ccZdZUhv6uMP",
        "outputId": "92366f21-3381-4f5b-9c91-5d661f1dd333"
      },
      "execution_count": null,
      "outputs": [
        {
          "output_type": "stream",
          "name": "stdout",
          "text": [
            "Drive already mounted at /content/drive; to attempt to forcibly remount, call drive.mount(\"/content/drive\", force_remount=True).\n"
          ]
        }
      ]
    },
    {
      "cell_type": "markdown",
      "source": [
        "## train, test 파일 다운로드"
      ],
      "metadata": {
        "id": "cpkaVAxN63Yh"
      }
    },
    {
      "cell_type": "code",
      "execution_count": null,
      "metadata": {
        "colab": {
          "base_uri": "https://localhost:8080/"
        },
        "id": "lPRRE0ic6UoS",
        "outputId": "fe83cef2-0984-42c2-b8c4-df401c786159"
      },
      "outputs": [
        {
          "output_type": "stream",
          "name": "stdout",
          "text": [
            "Downloading...\n",
            "From: https://drive.google.com/uc?id=1F6Otr01l-sUUR_1AdTM925tAGDE_L--t\n",
            "To: /content/train.csv\n",
            "100% 3.47M/3.47M [00:00<00:00, 204MB/s]\n",
            "Downloading...\n",
            "From: https://drive.google.com/uc?id=13lNIGs3wsD0mZF4OauV4GhZQHniNjK6d\n",
            "To: /content/test.csv\n",
            "100% 1.28M/1.28M [00:00<00:00, 170MB/s]\n"
          ]
        }
      ],
      "source": [
        "!gdown https://drive.google.com/uc?id=1F6Otr01l-sUUR_1AdTM925tAGDE_L--t\n",
        "!gdown https://drive.google.com/uc?id=13lNIGs3wsD0mZF4OauV4GhZQHniNjK6d"
      ]
    },
    {
      "cell_type": "markdown",
      "source": [
        "## 패키지 설치"
      ],
      "metadata": {
        "id": "DDC3ilm867O1"
      }
    },
    {
      "cell_type": "code",
      "source": [
        "!pip install category_encoders"
      ],
      "metadata": {
        "colab": {
          "base_uri": "https://localhost:8080/"
        },
        "id": "NV9_aK05p6ET",
        "outputId": "a5fe929a-0e90-4b9b-87df-31556170c5bd"
      },
      "execution_count": null,
      "outputs": [
        {
          "output_type": "stream",
          "name": "stdout",
          "text": [
            "Requirement already satisfied: category_encoders in /usr/local/lib/python3.10/dist-packages (2.6.2)\n",
            "Requirement already satisfied: numpy>=1.14.0 in /usr/local/lib/python3.10/dist-packages (from category_encoders) (1.23.5)\n",
            "Requirement already satisfied: scikit-learn>=0.20.0 in /usr/local/lib/python3.10/dist-packages (from category_encoders) (1.2.2)\n",
            "Requirement already satisfied: scipy>=1.0.0 in /usr/local/lib/python3.10/dist-packages (from category_encoders) (1.10.1)\n",
            "Requirement already satisfied: statsmodels>=0.9.0 in /usr/local/lib/python3.10/dist-packages (from category_encoders) (0.14.0)\n",
            "Requirement already satisfied: pandas>=1.0.5 in /usr/local/lib/python3.10/dist-packages (from category_encoders) (1.5.3)\n",
            "Requirement already satisfied: patsy>=0.5.1 in /usr/local/lib/python3.10/dist-packages (from category_encoders) (0.5.3)\n",
            "Requirement already satisfied: python-dateutil>=2.8.1 in /usr/local/lib/python3.10/dist-packages (from pandas>=1.0.5->category_encoders) (2.8.2)\n",
            "Requirement already satisfied: pytz>=2020.1 in /usr/local/lib/python3.10/dist-packages (from pandas>=1.0.5->category_encoders) (2023.3)\n",
            "Requirement already satisfied: six in /usr/local/lib/python3.10/dist-packages (from patsy>=0.5.1->category_encoders) (1.16.0)\n",
            "Requirement already satisfied: joblib>=1.1.1 in /usr/local/lib/python3.10/dist-packages (from scikit-learn>=0.20.0->category_encoders) (1.3.2)\n",
            "Requirement already satisfied: threadpoolctl>=2.0.0 in /usr/local/lib/python3.10/dist-packages (from scikit-learn>=0.20.0->category_encoders) (3.2.0)\n",
            "Requirement already satisfied: packaging>=21.3 in /usr/local/lib/python3.10/dist-packages (from statsmodels>=0.9.0->category_encoders) (23.1)\n"
          ]
        }
      ]
    },
    {
      "cell_type": "markdown",
      "source": [
        "## 패키지 불러오기"
      ],
      "metadata": {
        "id": "mZtp2QO3p8HX"
      }
    },
    {
      "cell_type": "code",
      "source": [
        "# Core\n",
        "import os, math\n",
        "import pandas as pd\n",
        "import numpy as np\n",
        "\n",
        "# 시각화\n",
        "import matplotlib.pyplot as plt\n",
        "import seaborn as sns\n",
        "import plotly.graph_objects as go\n",
        "import plotly.express as px\n",
        "import missingno as msno\n",
        "\n",
        "# scikit-learn\n",
        "from sklearn.model_selection import train_test_split, GridSearchCV, RandomizedSearchCV, KFold, StratifiedKFold, cross_validate, cross_val_score, KFold\n",
        "from sklearn.preprocessing import StandardScaler, RobustScaler, MinMaxScaler, OneHotEncoder, LabelEncoder, OrdinalEncoder\n",
        "from sklearn.compose import make_column_transformer\n",
        "from sklearn.metrics import accuracy_score, precision_score, recall_score, f1_score, roc_auc_score, mean_squared_error\n",
        "from category_encoders.ordinal import OrdinalEncoder\n",
        "\n",
        "# 분류 모델\n",
        "from sklearn.linear_model import LogisticRegression\n",
        "from sklearn.ensemble import RandomForestClassifier\n",
        "from lightgbm import LGBMClassifier\n",
        "import lightgbm as lgb\n",
        "\n",
        "# utils\n",
        "import warnings\n",
        "from tqdm.notebook import tqdm\n",
        "\n",
        "warnings.filterwarnings('ignore')\n",
        "tqdm.pandas()"
      ],
      "metadata": {
        "id": "JwXr_GE06YE7"
      },
      "execution_count": null,
      "outputs": []
    },
    {
      "cell_type": "markdown",
      "source": [
        "## csv 불러오기"
      ],
      "metadata": {
        "id": "lwhnyr3h8QEs"
      }
    },
    {
      "cell_type": "code",
      "source": [
        "df = pd.read_csv(\"/content/train.csv\")\n",
        "test_df = pd.read_csv(\"/content/test.csv\")"
      ],
      "metadata": {
        "id": "Sipfkz-v7Xz-"
      },
      "execution_count": null,
      "outputs": []
    },
    {
      "cell_type": "markdown",
      "source": [
        "# EDA(Exploratory Data Analysis, 탐색적 데이터 분석)\n",
        "\n",
        "### **EDA란?**\n",
        "> EDA 혹은 탐색적 데이터 분석이라고도 불리는 이 절차는, 데이터를 살펴보고 뜯어보는 과정에서 반복되는 패턴이나 관계를 도출해내고 인사이트를 얻기 위해 필요합니다.\n",
        "    <br>\n",
        "    <br>\n",
        "    이미 잘 아는 분야, 데이터라면 \"이렇게 하면 이런 결과가 나올 것이다\"라는 가설을 가지고 바로 실험해볼 수도 있지만,\n",
        "    그렇지 않을 때는 반드시 거쳐야 하는 과정입니다. 물론 잘 아는 분야여도 EDA를 통해서 새로운 정보를 얻을 수도 있구요!\n",
        "    <br>\n",
        "    <br>\n",
        "    코드를 작성해야 하는 일이 늘어나 부담이 될 수는 있지만, 섣불리 건너뛰었다가는 데이터에 대한 이해 부족으로 다시 EDA를 하러 돌아오는 불상사가 발생할 수 있으니,\n",
        "    조금만 힘내서 EDA를 해보자구요.\n",
        "    \n",
        "<br>\n",
        "<br>\n",
        "\n",
        "---\n",
        "\n",
        "##### >> EDA가 궁금하신 분들을 위해, 데이콘에 소개된 양질의 게시글들을 추천해드릴게요!\n",
        "\n",
        "| URL                                                                                                                                  | 작성자    | 추천사유                                                                                                                                                                                       |\n",
        "|--------------------------------------------------------------------------------------------------------------------------------------|-----------|------------------------------------------------------------------------------------------------------------------------------------------------------------------------------------------------|\n",
        "| [[EDA] 데이터 분석 입문자를 위한 데이터 살펴보기](https://dacon.io/competitions/official/236147/codeshare/8682)                      | DACONIO   | 데이콘에서 제공하는 EDA baseline 코드입니다.  <br><br> 데이터와 주제는 다르지만, EDA의 필수요소라고 할 수 있는 내용들이  <br>들어가있기 때문에 추천드려요!                                     |\n",
        "| [[데이썬☀️_3편] 🔍EDA (탐색적 데이터 분석) 사용 설명서 (1) - EDA & 통계치 분석](https://dacon.io/codeshare/4899)                       | 므인      | 기본적인 EDA의 종류와 유형부터 이상치 처리, 결측치와 같은 통계치 분석에 대한 내용도 일목요연하게 정리되어 있습니다. <br><br> 데이터 분석 입문자 분들께는 좋은 참고자료가 될 것이기에 추천드립니다. |\n",
        "| [ 데이콘의 경진대회 수상작들 중에 PDF로 만들어진 내용을 슬라이드 쉐어에 모아 봤습니다. ](https://dacon.io/forum/409145?dtype=recent) | DATA MONK | 해당 게시글에 시각화 우수 사례들이 많이 소개되어 있습니다.  <br><br> 실제 프로젝트, 대회에서는 어떻게 데이터를 시각화하는지 궁금하다면 꼭 확인해보세요.                                            |"
      ],
      "metadata": {
        "id": "7kY1IX378Zk4"
      }
    },
    {
      "cell_type": "code",
      "source": [
        "# 승연님 자료가 들어갈 예정"
      ],
      "metadata": {
        "id": "e6d8BovY7ojK"
      },
      "execution_count": null,
      "outputs": []
    },
    {
      "cell_type": "markdown",
      "source": [
        "# Feature Selection / Feature Engineering\n",
        "\n",
        "\n",
        " ### **Feature Selection이란?**\n",
        "> EDA 혹은 모델 성능을 확인하는 과정에서 필요한 feature를 선별하는 절차를 뜻합니다.\n",
        "    <br>\n",
        "    <br>\n",
        "    가령 모델 성능을 비교해보는 과정에서, 'A'라는 feature를 없앴을 때 성능이 더 좋아서 빼기로 결정했다면, 이도 feature selection을 수행한 것이지요.\n",
        "\n",
        "<br>\n",
        "\n",
        "### **Feature Engineering이란?**\n",
        "> 그러면 Feature Engineering은 무엇일까요? 간혹 결측치, 중복값, 이상치, 데이터 편향 등의 이유로 feature selection만으로는 적절한 모델 성능을 기대하기 어려울 때가 있습니다.\n",
        "    <br>\n",
        "    <br>\n",
        "    이럴 때 feature를 조작하는 것을 feature engineering이라고 합니다.  결측치를 특정 값으로 채워줄 수도 있고, 결측치가 있는 행/열을 없애줄 수도 있죠.\n",
        "    <br>\n",
        "    앞서 EDA에서 특정 feature끼리 결합해서 새로운 feature를 만드는 것도 모두 이에 해당됩니다.\n",
        "    <br>\n",
        "    주어진 feature만으로는 성능이 더이상 오르지 않는다면, 새로운 파생변수를 만드는 것도 고려해보세요!\n"
      ],
      "metadata": {
        "id": "v7aRvB5OFbLg"
      }
    },
    {
      "cell_type": "markdown",
      "source": [
        "## 불필요한 feature 삭제"
      ],
      "metadata": {
        "id": "AdQKkfUAKYBg"
      }
    },
    {
      "cell_type": "code",
      "source": [
        "df = df.drop(['FLAG_MOBIL', 'index'], axis=1)\n",
        "test_df = test_df.drop(['FLAG_MOBIL', 'index'], axis=1)"
      ],
      "metadata": {
        "id": "QzteSdddF_iT"
      },
      "execution_count": null,
      "outputs": []
    },
    {
      "cell_type": "markdown",
      "source": [
        "##### 설명\n",
        "\n",
        "* 'FLAG_MOBIL' : 모든 데이터에서 1로 동일한 값을 가지기 때문에, 변수 간 관계 파악에 도움이 되지 않습니다.\n",
        "* 'index' : 모든 데이터에서 서로 다른 값을 가지며, 특정 기준에 의한 값이 아닌 단순히 행 번호를  나타냅니다. 따라서 마찬가지로 변수 간 관계 파악에 도움이 되지 않습니다."
      ],
      "metadata": {
        "id": "3Zd9dghCLcZX"
      }
    },
    {
      "cell_type": "markdown",
      "source": [
        "## 결측치 처리"
      ],
      "metadata": {
        "id": "uChGZl9bMCi3"
      }
    },
    {
      "cell_type": "code",
      "source": [
        "df['occyp_type'] = df['occyp_type'].fillna(\"Unknown\")\n",
        "test_df['occyp_type'] = test_df['occyp_type'].fillna(\"Unknown\")"
      ],
      "metadata": {
        "id": "FtsiMjegLd3e"
      },
      "execution_count": null,
      "outputs": []
    },
    {
      "cell_type": "markdown",
      "source": [
        "##### 설명\n",
        "\n",
        "데이터의 수집 배경을 추측해보는 과정에서, 가입 시 고객으로부터 입력받은 개인정보라고 가정하고 접근했습니다.\n",
        "<br>\n",
        "이 때 직업을 미기입한 경우 결측치로 나타난다고 유추할 수 있습니다.\n",
        "<br>\n",
        "<br>\n",
        "결측치가 데이터 손실이 아닌 의도된 것이라면, 이를 'Unknown'으로 일괄적으로 채워서, 하나의 카테고리로 인식하도록 합니다."
      ],
      "metadata": {
        "id": "UkPr-hkaMJ4i"
      }
    },
    {
      "cell_type": "markdown",
      "source": [
        "## 파생변수: ID"
      ],
      "metadata": {
        "id": "4aAy2RZ7NHGG"
      }
    },
    {
      "cell_type": "code",
      "source": [
        "add_columns = ['gender', 'car', 'reality', 'income_type', 'edu_type', 'family_type',\n",
        "       'house_type', 'occyp_type', 'work_phone', 'email', 'DAYS_BIRTH', 'child_num', 'DAYS_EMPLOYED']\n",
        "\n",
        "df['ID'] = df[add_columns].astype(str).apply(lambda x: '_'.join(x), axis=1)\n",
        "test_df['ID'] = test_df[add_columns].astype(str).apply(lambda x: '_'.join(x), axis=1)"
      ],
      "metadata": {
        "id": "O0KU3ZdYMIay"
      },
      "execution_count": null,
      "outputs": []
    },
    {
      "cell_type": "markdown",
      "source": [
        "##### 설명\n",
        "\n",
        "먼저 drop한 'index', 'FLAG_MOBIL'을 제외하면, 'income_total', 'phone', 'family_size', 'begin_month', 'credit' 외의 모든 변수를 문자열로 더해주었습니다.\n",
        "<br>\n",
        "- 이 때 각각의 데이터(row)는 기본적으로는 고유한 값을 가지게 되며, 겹치는 ID값은 동일인물로 식별되도록 하였습니다.\n",
        "<br>\n",
        "- 가입 시기('begin_month')에 따라 수입 수준('income_total'), 가족구성원 수('family_size') 등의 정보는 변동될 수 있다고 가정했습니다.\n",
        "<br>\n",
        "- credit은 예측해야 하는 y값이기 때문에 제외되었습니다."
      ],
      "metadata": {
        "id": "-SyU_8eiNUjO"
      }
    },
    {
      "cell_type": "markdown",
      "source": [
        "## 'DAYS_EMPLOYED' 핸들링\n",
        "\n",
        "### 이상치 처리"
      ],
      "metadata": {
        "id": "KwpFyaZkPfP0"
      }
    },
    {
      "cell_type": "code",
      "source": [
        "df['DAYS_EMPLOYED'] = df['DAYS_EMPLOYED'].apply(lambda x: 0 if x > 0 else x)\n",
        "test_df['DAYS_EMPLOYED'] = test_df['DAYS_EMPLOYED'].apply(lambda x: 0 if x > 0 else x)"
      ],
      "metadata": {
        "id": "cSvGVi9YNeDb"
      },
      "execution_count": null,
      "outputs": []
    },
    {
      "cell_type": "markdown",
      "source": [
        "##### 설명\n",
        "\n",
        "근무일수('DAYS_EMPLOYED')는 시작일을 기준으로 경과된 일자만큼의 음수값을 지닙니다. 하지만 양수인 데이터가 있는데, 이들은 이상치로 간주하여, 모두 0으로 처리합니다.\n"
      ],
      "metadata": {
        "id": "zcXjtllTPr0E"
      }
    },
    {
      "cell_type": "markdown",
      "source": [
        "## feature 핸들링: 음수 -> 절대값"
      ],
      "metadata": {
        "id": "J_BFx2igQP7D"
      }
    },
    {
      "cell_type": "code",
      "source": [
        "features = ['DAYS_BIRTH', 'DAYS_EMPLOYED', 'begin_month']\n",
        "for f in features:\n",
        "    df[f] = df[f].abs()\n",
        "    test_df[f] = test_df[f].abs()"
      ],
      "metadata": {
        "id": "TvQcTbepNef4"
      },
      "execution_count": null,
      "outputs": []
    },
    {
      "cell_type": "markdown",
      "source": [
        "##### 설명\n",
        "\n",
        "전반적으로 절대값을 취했을 때 성능이 더 좋았기에, 이를 적용합니다."
      ],
      "metadata": {
        "id": "bJfLeHddQcGn"
      }
    },
    {
      "cell_type": "markdown",
      "source": [
        "## 파생변수: no_work"
      ],
      "metadata": {
        "id": "jKZ5V3l9QoEM"
      }
    },
    {
      "cell_type": "code",
      "source": [
        "df[\"No_work\"] = df[\"DAYS_BIRTH\"] - df['DAYS_EMPLOYED']\n",
        "test_df[\"No_work\"] = test_df[\"DAYS_BIRTH\"] - test_df['DAYS_EMPLOYED']"
      ],
      "metadata": {
        "id": "rR7enh68QWBk"
      },
      "execution_count": null,
      "outputs": []
    },
    {
      "cell_type": "markdown",
      "source": [
        "##### 설명\n",
        "출생 이후부터 취업 전까지를 일하지 않은 날로 간주하여 'DAYS_BIRTH'에서 'DAYS_EMPLOYED'를 빼주었습니다."
      ],
      "metadata": {
        "id": "eJCIDMt9Q7xF"
      }
    },
    {
      "cell_type": "markdown",
      "source": [
        "## 파생변수: 연, 월, 주"
      ],
      "metadata": {
        "id": "Re1UnAo_R9g0"
      }
    },
    {
      "cell_type": "code",
      "source": [
        "def get_DAY_MONTH_WEEK(df, feature):\n",
        "    df[f'{feature}(year)'] = df[feature] // 365 # 연 정보\n",
        "    df[f'{feature}(month)'] = (df[feature] % 365) // 30 # 월 정보\n",
        "    df[f'{feature}(week)'] = ((df[feature] % 365) % 30) // 7 # 일 정보\n",
        "\n",
        "    return df"
      ],
      "metadata": {
        "id": "BffKsezOQtSD"
      },
      "execution_count": null,
      "outputs": []
    },
    {
      "cell_type": "markdown",
      "source": [
        "##### 설명\n",
        "'DAYS_BIRTH', 'DAYS_EMPLOYED', 'No_work'의 경우 각각의 값을 일 단위 날짜로 표기했으며, 모델 성능 개선을 위해 각각 연, 월, 주 정보를 담은 파생변수를 생성합니다."
      ],
      "metadata": {
        "id": "YZusn0lGU3fw"
      }
    },
    {
      "cell_type": "code",
      "source": [
        "# train data\n",
        "df = get_DAY_MONTH_WEEK(df, 'DAYS_BIRTH')\n",
        "df = get_DAY_MONTH_WEEK(df, 'DAYS_EMPLOYED')\n",
        "df = get_DAY_MONTH_WEEK(df, 'No_work')\n",
        "\n",
        "# test data도 똑같이 적용해줍니다.\n",
        "test_df = get_DAY_MONTH_WEEK(test_df, 'DAYS_BIRTH')\n",
        "test_df = get_DAY_MONTH_WEEK(test_df, 'DAYS_EMPLOYED')\n",
        "test_df = get_DAY_MONTH_WEEK(test_df, 'No_work')"
      ],
      "metadata": {
        "id": "B4ramtxCS4hN"
      },
      "execution_count": null,
      "outputs": []
    },
    {
      "cell_type": "code",
      "source": [
        "# 변수 생성이 잘 되었는지 확인합니다.\n",
        "df.info()"
      ],
      "metadata": {
        "colab": {
          "base_uri": "https://localhost:8080/"
        },
        "id": "KbD3gQt8U9UG",
        "outputId": "368e20b6-d32a-416f-de50-2402faaf2279"
      },
      "execution_count": null,
      "outputs": [
        {
          "output_type": "stream",
          "name": "stdout",
          "text": [
            "<class 'pandas.core.frame.DataFrame'>\n",
            "RangeIndex: 26457 entries, 0 to 26456\n",
            "Data columns (total 29 columns):\n",
            " #   Column                Non-Null Count  Dtype  \n",
            "---  ------                --------------  -----  \n",
            " 0   gender                26457 non-null  object \n",
            " 1   car                   26457 non-null  object \n",
            " 2   reality               26457 non-null  object \n",
            " 3   child_num             26457 non-null  int64  \n",
            " 4   income_total          26457 non-null  float64\n",
            " 5   income_type           26457 non-null  object \n",
            " 6   edu_type              26457 non-null  object \n",
            " 7   family_type           26457 non-null  object \n",
            " 8   house_type            26457 non-null  object \n",
            " 9   DAYS_BIRTH            26457 non-null  int64  \n",
            " 10  DAYS_EMPLOYED         26457 non-null  int64  \n",
            " 11  work_phone            26457 non-null  int64  \n",
            " 12  phone                 26457 non-null  int64  \n",
            " 13  email                 26457 non-null  int64  \n",
            " 14  occyp_type            26457 non-null  object \n",
            " 15  family_size           26457 non-null  float64\n",
            " 16  begin_month           26457 non-null  float64\n",
            " 17  credit                26457 non-null  float64\n",
            " 18  ID                    26457 non-null  object \n",
            " 19  No_work               26457 non-null  int64  \n",
            " 20  DAYS_BIRTH(year)      26457 non-null  int64  \n",
            " 21  DAYS_BIRTH(month)     26457 non-null  int64  \n",
            " 22  DAYS_BIRTH(week)      26457 non-null  int64  \n",
            " 23  DAYS_EMPLOYED(year)   26457 non-null  int64  \n",
            " 24  DAYS_EMPLOYED(month)  26457 non-null  int64  \n",
            " 25  DAYS_EMPLOYED(week)   26457 non-null  int64  \n",
            " 26  No_work(year)         26457 non-null  int64  \n",
            " 27  No_work(month)        26457 non-null  int64  \n",
            " 28  No_work(week)         26457 non-null  int64  \n",
            "dtypes: float64(4), int64(16), object(9)\n",
            "memory usage: 5.9+ MB\n"
          ]
        }
      ]
    },
    {
      "cell_type": "markdown",
      "source": [
        "## 파생변수: 'income_year'"
      ],
      "metadata": {
        "id": "BnapX80iWB4d"
      }
    },
    {
      "cell_type": "code",
      "source": [
        "df['income_year'] = df['income_total'] / 365\n",
        "test_df['income_year'] = test_df['income_total'] / 365\n",
        "# df['income_year'] = df['income_total'] / df['DAYS_EMPLOYED(year)']\n",
        "# test_df['income_year'] = test_df['income_total'] / test_df['DAYS_EMPLOYED(year)']"
      ],
      "metadata": {
        "id": "53zqS0-jVuxF"
      },
      "execution_count": null,
      "outputs": []
    },
    {
      "cell_type": "markdown",
      "source": [
        "##### 설명\n",
        "\n",
        "<<채울 예정>>"
      ],
      "metadata": {
        "id": "uOf9dvirWhxO"
      }
    },
    {
      "cell_type": "markdown",
      "source": [
        "## 파생변수: 'income'"
      ],
      "metadata": {
        "id": "Q-0wJ5OyXZm8"
      }
    },
    {
      "cell_type": "code",
      "source": [
        "df['income'] = df['income_total'] / ((df['DAYS_BIRTH'] + df['DAYS_EMPLOYED']))\n",
        "test_df['income'] = test_df['income_total'] / ((test_df['DAYS_BIRTH'] + test_df['DAYS_EMPLOYED']))"
      ],
      "metadata": {
        "id": "F_yHLVuBWlbT"
      },
      "execution_count": null,
      "outputs": []
    },
    {
      "cell_type": "markdown",
      "source": [
        "##### 가정\n",
        "나이가 많으면서 근무일수도 높다면, 소득수준이 더 높을 것이라고 가정하여 접근했습니다.\n",
        "<br>\n",
        "<br>\n",
        "##### 설명\n",
        "총소득('income_total')을 살아온 일수('DAYS_BIRTH') + 근무일수('DAYS_EMPLOYED')로 나눠주었습니다.\n"
      ],
      "metadata": {
        "id": "4sZaOclkXgys"
      }
    },
    {
      "cell_type": "markdown",
      "source": [
        "## 파생변수: 'income_family'"
      ],
      "metadata": {
        "id": "XDD7kvrRcACb"
      }
    },
    {
      "cell_type": "code",
      "source": [
        "df['income_famliy'] = df['income_total'] / df['family_size']\n",
        "test_df['income_famliy'] = test_df['income_total'] / test_df['family_size']"
      ],
      "metadata": {
        "id": "RGmAhld0XfvI"
      },
      "execution_count": null,
      "outputs": []
    },
    {
      "cell_type": "markdown",
      "source": [
        "##### 가정\n",
        "가족구성원이 많다면 실질적인 체감소득이 적을 것이라고 가정했습니다.\n",
        "<br>\n",
        "<br>\n",
        "\n",
        "##### 설명\n",
        "소득은 동일하되 가족구성원 수가 더 많은 경우, 체감소득은 낮아질 것이기 때문에 총소득('income_total')을 가족구성원 수('family_size')로 나눠주었습니다."
      ],
      "metadata": {
        "id": "xFZ9LifscFpW"
      }
    },
    {
      "cell_type": "markdown",
      "source": [
        "## 파생변수: car + email"
      ],
      "metadata": {
        "id": "LGL5a7focvum"
      }
    },
    {
      "cell_type": "code",
      "source": [
        "df['car_email'] = df.loc[:, 'car':'email'].sum(axis = 1)\n",
        "test_df['car_email'] = test_df.loc[:, 'car':'email'].sum(axis = 1)\n",
        "\n",
        "df = df.drop(['car', 'email'], axis=1)\n",
        "test_df = test_df.drop(['car', 'email'], axis=1)"
      ],
      "metadata": {
        "id": "Eh3_KKr9Wozu"
      },
      "execution_count": null,
      "outputs": []
    },
    {
      "cell_type": "markdown",
      "source": [
        "##### 설명\n",
        "\n",
        "'car', 'email' 자체로는 모델 성능에 큰 영향을 끼치지 못했으나, 둘을 더한 파생변수를 사용했을 때는 성능 개선 효과가 있었습니다."
      ],
      "metadata": {
        "id": "Pz1bCfdfc-Ma"
      }
    },
    {
      "cell_type": "markdown",
      "source": [
        "## 불필요 변수 삭제 << 나중에 child_num 살려서 써보기 >>"
      ],
      "metadata": {
        "id": "gj_NH5UNdM8J"
      }
    },
    {
      "cell_type": "code",
      "source": [
        "df = df.drop(['DAYS_EMPLOYED','DAYS_BIRTH','child_num'], axis=1)\n",
        "test_df = test_df.drop(['DAYS_EMPLOYED','DAYS_BIRTH','child_num'], axis=1)"
      ],
      "metadata": {
        "id": "poRTqpToc8pF"
      },
      "execution_count": null,
      "outputs": []
    },
    {
      "cell_type": "markdown",
      "source": [
        "# 전처리\n",
        "\n",
        "<< 설명 보충 필요 >>"
      ],
      "metadata": {
        "id": "74awDHzEdeh8"
      }
    },
    {
      "cell_type": "markdown",
      "source": [
        "## 타입캐스팅"
      ],
      "metadata": {
        "id": "a2rB8Z4Ek5_z"
      }
    },
    {
      "cell_type": "code",
      "source": [
        "df['credit'] = df['credit'].astype(int)"
      ],
      "metadata": {
        "id": "T5oA3e9fk8nt"
      },
      "execution_count": null,
      "outputs": []
    },
    {
      "cell_type": "markdown",
      "source": [
        "## train validation split"
      ],
      "metadata": {
        "id": "eaARCkrkiqqw"
      }
    },
    {
      "cell_type": "code",
      "source": [
        "X_data = df.drop('credit', axis=1)\n",
        "y_data = df['credit']\n",
        "\n",
        "X_train, X_val, y_train, y_val = train_test_split(X_data, y_data,\n",
        "                                                  test_size=0.2,\n",
        "                                                  random_state=777,\n",
        "                                                  stratify=y_data\n",
        "                                                  )\n",
        "\n",
        "X_train.shape, X_val.shape, y_train.shape, y_val.shape"
      ],
      "metadata": {
        "colab": {
          "base_uri": "https://localhost:8080/"
        },
        "id": "EmHWStc8iuxg",
        "outputId": "3b266bc8-2c67-41b6-9e09-a9c12c230a8e"
      },
      "execution_count": null,
      "outputs": [
        {
          "output_type": "execute_result",
          "data": {
            "text/plain": [
              "((21165, 27), (5292, 27), (21165,), (5292,))"
            ]
          },
          "metadata": {},
          "execution_count": 347
        }
      ]
    },
    {
      "cell_type": "markdown",
      "source": [
        "## OrdinalEncoder"
      ],
      "metadata": {
        "id": "X8kXxr_weNAR"
      }
    },
    {
      "cell_type": "code",
      "source": [
        "# object열 확인하기\n",
        "object_columns = X_train.dtypes[X_train.dtypes == \"object\"].index.tolist()\n",
        "print(object_columns)"
      ],
      "metadata": {
        "colab": {
          "base_uri": "https://localhost:8080/"
        },
        "id": "j-ncZNICdd7r",
        "outputId": "9b03a22e-4f82-4c8c-afa0-0b94da0b1f35"
      },
      "execution_count": null,
      "outputs": [
        {
          "output_type": "stream",
          "name": "stdout",
          "text": [
            "['gender', 'reality', 'income_type', 'edu_type', 'family_type', 'house_type', 'occyp_type', 'ID']\n"
          ]
        }
      ]
    },
    {
      "cell_type": "code",
      "source": [],
      "metadata": {
        "id": "XMOi40EKpwGr"
      },
      "execution_count": null,
      "outputs": []
    },
    {
      "cell_type": "code",
      "source": [
        "# object열 인코딩하기\n",
        "orde = OrdinalEncoder(object_columns)\n",
        "X_train[object_columns] = orde.fit_transform(X_train[object_columns])\n",
        "X_val[object_columns] = orde.transform(X_val[object_columns])\n",
        "test_df[object_columns] = orde.transform(test_df[object_columns])"
      ],
      "metadata": {
        "id": "WKvIydgXeWHd"
      },
      "execution_count": null,
      "outputs": []
    },
    {
      "cell_type": "code",
      "source": [
        "orde.feature_names_in_"
      ],
      "metadata": {
        "colab": {
          "base_uri": "https://localhost:8080/"
        },
        "id": "vIyueirqoLis",
        "outputId": "893d4c9d-0bfc-4010-9bcd-c7ae998073ad"
      },
      "execution_count": null,
      "outputs": [
        {
          "output_type": "execute_result",
          "data": {
            "text/plain": [
              "array(['gender', 'reality', 'income_type', 'edu_type', 'family_type',\n",
              "       'house_type', 'occyp_type', 'ID'], dtype=object)"
            ]
          },
          "metadata": {},
          "execution_count": 274
        }
      ]
    },
    {
      "cell_type": "markdown",
      "source": [],
      "metadata": {
        "id": "O-db2BV_io9w"
      }
    },
    {
      "cell_type": "markdown",
      "source": [
        "# 모델링: LGBM"
      ],
      "metadata": {
        "id": "VIk4n3o2iXSA"
      }
    },
    {
      "cell_type": "code",
      "source": [
        "lgbm = LGBMClassifier(n_estimators=300, boosting_type='gbdt', learning_rate=0.1,\n",
        "                    objective='multiclass', random_state=777, n_jobs=4,)\n",
        "\n",
        "lgbm.fit(X_train, y_train)\n",
        "\n",
        "lgbm.score(X_val, y_val)"
      ],
      "metadata": {
        "colab": {
          "base_uri": "https://localhost:8080/"
        },
        "id": "lOeojGBMem71",
        "outputId": "93b5d398-ce3c-405e-d87b-cbc1f04fa3fa"
      },
      "execution_count": null,
      "outputs": [
        {
          "output_type": "stream",
          "name": "stdout",
          "text": [
            "[LightGBM] [Warning] Auto-choosing row-wise multi-threading, the overhead of testing was 0.002425 seconds.\n",
            "You can set `force_row_wise=true` to remove the overhead.\n",
            "And if memory is not enough, you can set `force_col_wise=true`.\n",
            "[LightGBM] [Info] Total Bins 1886\n",
            "[LightGBM] [Info] Number of data points in the train set: 21165, number of used features: 27\n",
            "[LightGBM] [Info] Start training from score -2.105335\n",
            "[LightGBM] [Info] Start training from score -1.440314\n",
            "[LightGBM] [Info] Start training from score -0.444193\n"
          ]
        },
        {
          "output_type": "execute_result",
          "data": {
            "text/plain": [
              "0.7178760393046107"
            ]
          },
          "metadata": {},
          "execution_count": 351
        }
      ]
    },
    {
      "cell_type": "code",
      "source": [
        "import time, datetime\n",
        "START = datetime.datetime.now()\n",
        "print(f\"start: {START.strftime('%H:%M:%S')}\")\n",
        "\n",
        "params_grid = {\n",
        "    'n_estimators' : [200, 250, 300, 350, 400, 450, 500],\n",
        "    'boosting_type' : ['gdbt', 'dart', 'rf'],\n",
        "    'learning_rate' : [0.0, 0.001, 0.005, 0.1, 0.3, 0.5, 0.75, 1.0],\n",
        "    'max_depth' : list(range(1, 10)) + [-1],\n",
        "}\n",
        "\n",
        "grid_cv = GridSearchCV(\n",
        "    estimator = LGBMClassifier(objective='multiclass', random_state=777),\n",
        "    param_grid = params_grid,\n",
        "    scoring = ['accuracy', 'f1'],\n",
        "    refit = 'accuracy',\n",
        "    n_jobs = -1,\n",
        "    cv = 10,\n",
        "    verbose = 3\n",
        ")\n",
        "\n",
        "result = grid_cv.fit(X_train, y_train)\n",
        "\n",
        "\n",
        "END = datetime.datetime.now()\n",
        "print(f\"end: {END.strftime('%H:%M:%S')}\")"
      ],
      "metadata": {
        "id": "SLy7sjAMe-Au"
      },
      "execution_count": null,
      "outputs": []
    },
    {
      "cell_type": "code",
      "source": [],
      "metadata": {
        "id": "m3kNzcoNqThw"
      },
      "execution_count": null,
      "outputs": []
    }
  ]
}